{
  "nbformat": 4,
  "nbformat_minor": 0,
  "metadata": {
    "colab": {
      "private_outputs": true,
      "provenance": [],
      "authorship_tag": "ABX9TyNdMjwzOaK0AbYDVOlOP9jI",
      "include_colab_link": true
    },
    "kernelspec": {
      "name": "python3",
      "display_name": "Python 3"
    },
    "language_info": {
      "name": "python"
    }
  },
  "cells": [
    {
      "cell_type": "markdown",
      "metadata": {
        "id": "view-in-github",
        "colab_type": "text"
      },
      "source": [
        "<a href=\"https://colab.research.google.com/github/Blignaut24/BulldozerPriceGenuis-BPG-/blob/main/BulldozerPriceGenuis(BPG).ipynb\" target=\"_parent\"><img src=\"https://colab.research.google.com/assets/colab-badge.svg\" alt=\"Open In Colab\"/></a>"
      ]
    },
    {
      "cell_type": "markdown",
      "source": [
        "# Introduction"
      ],
      "metadata": {
        "id": "gkITE7Pl0AUK"
      }
    },
    {
      "cell_type": "markdown",
      "source": [
        "# Overview"
      ],
      "metadata": {
        "id": "5MvQMev1CLn9"
      }
    },
    {
      "cell_type": "markdown",
      "source": [
        "# 1. Problem Definition"
      ],
      "metadata": {
        "id": "Rslo1TrKCtWr"
      }
    },
    {
      "cell_type": "markdown",
      "source": [
        "# 2. Data Collection"
      ],
      "metadata": {
        "id": "S0wJrOw-CzoK"
      }
    },
    {
      "cell_type": "markdown",
      "source": [
        "# 3. Evaluation"
      ],
      "metadata": {
        "id": "c24iVZKOC7SK"
      }
    },
    {
      "cell_type": "markdown",
      "source": [
        "# 4. Features"
      ],
      "metadata": {
        "id": "E7mdOU7dDD_r"
      }
    },
    {
      "cell_type": "markdown",
      "source": [
        "# 5. Modeling"
      ],
      "metadata": {
        "id": "3DF_dniTDILa"
      }
    },
    {
      "cell_type": "markdown",
      "source": [
        "# 6. Experimentation"
      ],
      "metadata": {
        "id": "_P3OeT0wDQP7"
      }
    }
  ]
}